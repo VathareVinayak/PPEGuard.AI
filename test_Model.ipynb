{
 "cells": [
  {
   "cell_type": "code",
   "execution_count": null,
   "id": "316f0b11",
   "metadata": {},
   "outputs": [],
   "source": [
    "# from ultralytics import YOLO"
   ]
  },
  {
   "cell_type": "code",
   "execution_count": null,
   "id": "553ae0d3",
   "metadata": {},
   "outputs": [
    {
     "name": "stdout",
     "output_type": "stream",
     "text": [
      "\n",
      "image 1/1 D:\\#Safety Kit\\Construction-Site-Safety-PPE-Detection\\data\\test\\images\\Movie-on-10-31-22-at-10_08-AM_mov-24_jpg.rf.95ec6998880e7bb081f76b11a5e978e9.jpg: 448x640 1 Mask, 1 NO-Hardhat, 1 NO-Safety Vest, 1 Person, 1 machinery, 248.9ms\n",
      "Speed: 11.9ms preprocess, 248.9ms inference, 13.8ms postprocess per image at shape (1, 3, 448, 640)\n"
     ]
    },
    {
     "ename": "",
     "evalue": "",
     "output_type": "error",
     "traceback": [
      "\u001b[1;31mThe Kernel crashed while executing code in the current cell or a previous cell. \n",
      "\u001b[1;31mPlease review the code in the cell(s) to identify a possible cause of the failure. \n",
      "\u001b[1;31mClick <a href='https://aka.ms/vscodeJupyterKernelCrash'>here</a> for more info. \n",
      "\u001b[1;31mView Jupyter <a href='command:jupyter.viewOutput'>log</a> for further details."
     ]
    }
   ],
   "source": [
    "\n",
    "# # Load the trained model\n",
    "# model = YOLO(\"models/best.pt\")\n",
    "\n",
    "# results = model(r\"D:\\#Safety Kit\\Construction-Site-Safety-PPE-Detection\\data\\test\\images\\Movie-on-10-31-22-at-10_08-AM_mov-24_jpg.rf.95ec6998880e7bb081f76b11a5e978e9.jpg\", show=True)\n",
    "\n",
    "\n",
    "# for r in results:\n",
    "#     r.show()  # Displays the image with detections\n"
   ]
  },
  {
   "cell_type": "code",
   "execution_count": null,
   "id": "d733926d",
   "metadata": {},
   "outputs": [],
   "source": [
    "# test_Model.ipynb\n",
    "from ultralytics import YOLO\n",
    "import requests\n",
    "import json\n",
    "from PIL import Image\n",
    "\n",
    "model = YOLO(\"J:\\#PPE Suit Detection\\PPEGuard.AI\\models\\best.pt\")\n",
    "image_path = r\"D:\\#Safety Kit\\Construction-Site-Safety-PPE-Detection\\data\\test\\images\\Movie-on-10-31-22-at-10_08-AM_mov-24_jpg.rf.95ec6998880e7bb081f76b11a5e978e9.jpg\"\n",
    "\n",
    "results = model(image_path)\n",
    "\n",
    "# Parse results\n",
    "detected_labels = []\n",
    "for r in results:\n",
    "    boxes = r.boxes\n",
    "    for box in boxes:\n",
    "        cls_id = int(box.cls[0].item())\n",
    "        label = model.names[cls_id]\n",
    "        detected_labels.append(label)\n",
    "\n",
    "# Categorize result\n",
    "category = \"wearing\"\n",
    "for label in detected_labels:\n",
    "    if \"NO-\" in label:\n",
    "        category = \"not_wearing\"\n",
    "        break\n",
    "\n",
    "# Send to FastAPI backend\n",
    "payload = {\n",
    "    \"image_name\": image_path.split('\\\\')[-1],\n",
    "    \"labels\": detected_labels,\n",
    "    \"category\": category\n",
    "}\n",
    "\n",
    "response = requests.post(\"http://127.0.0.1:8000/detect/save\", json=payload)\n",
    "print(response.json())\n"
   ]
  }
 ],
 "metadata": {
  "kernelspec": {
   "display_name": "Python 3",
   "language": "python",
   "name": "python3"
  },
  "language_info": {
   "codemirror_mode": {
    "name": "ipython",
    "version": 3
   },
   "file_extension": ".py",
   "mimetype": "text/x-python",
   "name": "python",
   "nbconvert_exporter": "python",
   "pygments_lexer": "ipython3",
   "version": "3.11.5"
  }
 },
 "nbformat": 4,
 "nbformat_minor": 5
}
